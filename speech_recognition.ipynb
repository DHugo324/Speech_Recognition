{
 "cells": [
  {
   "cell_type": "code",
   "execution_count": 1,
   "id": "db6e68b7",
   "metadata": {
    "scrolled": false
   },
   "outputs": [
    {
     "name": "stdout",
     "output_type": "stream",
     "text": [
      "pygame 2.1.2 (SDL 2.0.18, Python 3.9.12)\n",
      "Hello from the pygame community. https://www.pygame.org/contribute.html\n"
     ]
    }
   ],
   "source": [
    "try:\n",
    "  import speech_recognition as sr\n",
    "except:\n",
    "  !pip install SpeechRecognition\n",
    "  import speech_recognition as sr\n",
    "try:\n",
    "  import pyaudio\n",
    "except:\n",
    "  !pip install pyaudio\n",
    "  import pyaudio\n",
    "\n",
    "try:\n",
    "  from gtts import gTTS\n",
    "except:\n",
    "  !pip install gTTS\n",
    "  from gtts import gTTS\n",
    "    \n",
    "try:\n",
    "  import pygame \n",
    "except:\n",
    "  !pip install pygame  \n",
    "  import pygame \n",
    "    \n",
    "from io import BytesIO    "
   ]
  },
  {
   "cell_type": "markdown",
   "id": "fba19d01",
   "metadata": {},
   "source": [
    "#### 使用語音辨識 程式樣板\n",
    "    def bot_listening():\n",
    "      rg = sr.Recognizer()\n",
    "      with sr.Microphone() as source: # 語音來源\n",
    "        audioData = rg.listen(source)\n",
    "        try:\n",
    "          text = rg.recognize_google(audioData, language='zh-tw')\n",
    "        except:\n",
    "          text = None\n",
    "      return text    \n",
    "+ language\n",
    "<a href='https://cloud.google.com/speech-to-text/docs/languages' target='blank_'>支持的語言及其代碼</a>"
   ]
  },
  {
   "cell_type": "code",
   "execution_count": 65,
   "id": "d15af7c1",
   "metadata": {
    "scrolled": true
   },
   "outputs": [
    {
     "name": "stdout",
     "output_type": "stream",
     "text": [
      "result2:\n",
      "{   'alternative': [   {'confidence': 0.92599881, 'transcript': '奶酥厚片'},\n",
      "                       {'transcript': '奶奶酥厚片'}],\n",
      "    'final': True}\n",
      "奶酥厚片\n"
     ]
    },
    {
     "ename": "FileNotFoundError",
     "evalue": "[Errno 2] No such file or directory: 'c:\\\\tmp\\\\tmp2.mp3'",
     "output_type": "error",
     "traceback": [
      "\u001b[1;31m---------------------------------------------------------------------------\u001b[0m",
      "\u001b[1;31mFileNotFoundError\u001b[0m                         Traceback (most recent call last)",
      "Input \u001b[1;32mIn [65]\u001b[0m, in \u001b[0;36m<cell line: 39>\u001b[1;34m()\u001b[0m\n\u001b[0;32m     37\u001b[0m st \u001b[38;5;241m=\u001b[39m speech_to_text()\n\u001b[0;32m     38\u001b[0m ts \u001b[38;5;241m=\u001b[39m text_to_speech()\n\u001b[1;32m---> 39\u001b[0m \u001b[43mts\u001b[49m\u001b[38;5;241;43m.\u001b[39;49m\u001b[43mspeak\u001b[49m\u001b[43m(\u001b[49m\u001b[43mst\u001b[49m\u001b[38;5;241;43m.\u001b[39;49m\u001b[43mlisten\u001b[49m\u001b[43m(\u001b[49m\u001b[43m)\u001b[49m\u001b[43m)\u001b[49m\n",
      "Input \u001b[1;32mIn [65]\u001b[0m, in \u001b[0;36mtext_to_speech.speak\u001b[1;34m(self, text, lang)\u001b[0m\n\u001b[0;32m     26\u001b[0m \u001b[38;5;28;01mdef\u001b[39;00m \u001b[38;5;21mspeak\u001b[39m(\u001b[38;5;28mself\u001b[39m,text,lang\u001b[38;5;241m=\u001b[39m\u001b[38;5;124m'\u001b[39m\u001b[38;5;124mzh-tw\u001b[39m\u001b[38;5;124m'\u001b[39m): \n\u001b[0;32m     27\u001b[0m   tts\u001b[38;5;241m=\u001b[39m gTTS(text, lang\u001b[38;5;241m=\u001b[39mlang)\n\u001b[1;32m---> 28\u001b[0m   \u001b[43mtts\u001b[49m\u001b[38;5;241;43m.\u001b[39;49m\u001b[43msave\u001b[49m\u001b[43m(\u001b[49m\u001b[38;5;28;43mself\u001b[39;49m\u001b[38;5;241;43m.\u001b[39;49m\u001b[43mactive_mp3\u001b[49m\u001b[43m)\u001b[49m\n\u001b[0;32m     29\u001b[0m   pygame\u001b[38;5;241m.\u001b[39mmixer\u001b[38;5;241m.\u001b[39mmusic\u001b[38;5;241m.\u001b[39mload(\u001b[38;5;28mself\u001b[39m\u001b[38;5;241m.\u001b[39mactive_mp3)\n\u001b[0;32m     30\u001b[0m   pygame\u001b[38;5;241m.\u001b[39mmixer\u001b[38;5;241m.\u001b[39mmusic\u001b[38;5;241m.\u001b[39mplay()\n",
      "File \u001b[1;32m~\\anaconda3\\lib\\site-packages\\gtts\\tts.py:328\u001b[0m, in \u001b[0;36mgTTS.save\u001b[1;34m(self, savefile)\u001b[0m\n\u001b[0;32m    318\u001b[0m \u001b[38;5;28;01mdef\u001b[39;00m \u001b[38;5;21msave\u001b[39m(\u001b[38;5;28mself\u001b[39m, savefile):\n\u001b[0;32m    319\u001b[0m     \u001b[38;5;124;03m\"\"\"Do the TTS API request and write result to file.\u001b[39;00m\n\u001b[0;32m    320\u001b[0m \n\u001b[0;32m    321\u001b[0m \u001b[38;5;124;03m    Args:\u001b[39;00m\n\u001b[1;32m   (...)\u001b[0m\n\u001b[0;32m    326\u001b[0m \n\u001b[0;32m    327\u001b[0m \u001b[38;5;124;03m    \"\"\"\u001b[39;00m\n\u001b[1;32m--> 328\u001b[0m     \u001b[38;5;28;01mwith\u001b[39;00m \u001b[38;5;28;43mopen\u001b[39;49m\u001b[43m(\u001b[49m\u001b[38;5;28;43mstr\u001b[39;49m\u001b[43m(\u001b[49m\u001b[43msavefile\u001b[49m\u001b[43m)\u001b[49m\u001b[43m,\u001b[49m\u001b[43m \u001b[49m\u001b[38;5;124;43m\"\u001b[39;49m\u001b[38;5;124;43mwb\u001b[39;49m\u001b[38;5;124;43m\"\u001b[39;49m\u001b[43m)\u001b[49m \u001b[38;5;28;01mas\u001b[39;00m f:\n\u001b[0;32m    329\u001b[0m         \u001b[38;5;28mself\u001b[39m\u001b[38;5;241m.\u001b[39mwrite_to_fp(f)\n\u001b[0;32m    330\u001b[0m         log\u001b[38;5;241m.\u001b[39mdebug(\u001b[38;5;124m\"\u001b[39m\u001b[38;5;124mSaved to \u001b[39m\u001b[38;5;132;01m%s\u001b[39;00m\u001b[38;5;124m\"\u001b[39m, savefile)\n",
      "\u001b[1;31mFileNotFoundError\u001b[0m: [Errno 2] No such file or directory: 'c:\\\\tmp\\\\tmp2.mp3'"
     ]
    }
   ],
   "source": [
    "import os\n",
    "import tempfile\n",
    "class speech_to_text:\n",
    "  def __init__(self):  \n",
    "    self.rg = sr.Recognizer()\n",
    "  def listen(self,lang='zh-tw'):  \n",
    "    with sr.Microphone() as source:\n",
    "      audioData = self.rg.listen(source)\n",
    "      try:\n",
    "        text = self.rg.recognize_google(audioData, language=lang)    \n",
    "        print(text)\n",
    "      except:\n",
    "        text = ''\n",
    "    return text\n",
    "\n",
    "class text_to_speech:\n",
    "  def __init__(self):\n",
    "    self.active_mp3  = 'c:\\\\tmp\\\\tmp2.mp3'\n",
    "    pygame.mixer.init()\n",
    "  def __del__(self):\n",
    "    try:\n",
    "      os.unlink(self.active_mp3)  \n",
    "    except:\n",
    "      pass  \n",
    "\n",
    "  def speak(self,text,lang='zh-tw'): \n",
    "    tts= gTTS(text, lang=lang)\n",
    "    tts.save(self.active_mp3)\n",
    "    pygame.mixer.music.load(self.active_mp3)\n",
    "    pygame.mixer.music.play()\n",
    "    while pygame.mixer.music.get_busy():\n",
    "      continue\n",
    "    pygame.mixer.music.unload()\n",
    "    return\n",
    "  \n",
    "        \n",
    "st = speech_to_text()\n",
    "ts = text_to_speech()\n",
    "ts.speak(st.listen())"
   ]
  },
  {
   "cell_type": "code",
   "execution_count": 63,
   "id": "d5407307",
   "metadata": {},
   "outputs": [],
   "source": [
    "del ts"
   ]
  },
  {
   "cell_type": "code",
   "execution_count": 59,
   "id": "b94b7374",
   "metadata": {
    "scrolled": true
   },
   "outputs": [
    {
     "name": "stdout",
     "output_type": "stream",
     "text": [
      "result2:\n",
      "{   'alternative': [   {'confidence': 0.86513907, 'transcript': '黑紅茶綠茶奶茶一份'},\n",
      "                       {'transcript': '緋紅茶綠茶奶茶一份'},\n",
      "                       {'transcript': '飛紅茶綠茶奶茶一份'},\n",
      "                       {'transcript': '黑紅茶綠茶一杯奶茶一份'},\n",
      "                       {'transcript': '緋紅茶綠茶一茶一份'}],\n",
      "    'final': True}\n",
      "黑紅茶綠茶奶茶一份\n"
     ]
    },
    {
     "ename": "IndexError",
     "evalue": "string index out of range",
     "output_type": "error",
     "traceback": [
      "\u001b[1;31m---------------------------------------------------------------------------\u001b[0m",
      "\u001b[1;31mIndexError\u001b[0m                                Traceback (most recent call last)",
      "Input \u001b[1;32mIn [59]\u001b[0m, in \u001b[0;36m<cell line: 130>\u001b[1;34m()\u001b[0m\n\u001b[0;32m    128\u001b[0m cin\u001b[38;5;241m=\u001b[39mbot_listening()\n\u001b[0;32m    129\u001b[0m \u001b[38;5;28mprint\u001b[39m(\u001b[38;5;28mstr\u001b[39m(cin))\n\u001b[1;32m--> 130\u001b[0m \u001b[38;5;28mprint\u001b[39m(\u001b[43mgogo\u001b[49m\u001b[43m(\u001b[49m\u001b[43mcin\u001b[49m\u001b[43m)\u001b[49m)\n",
      "Input \u001b[1;32mIn [59]\u001b[0m, in \u001b[0;36mgogo\u001b[1;34m(s)\u001b[0m\n\u001b[0;32m     27\u001b[0m     x\u001b[38;5;241m=\u001b[39mloc\u001b[38;5;241m+\u001b[39m\u001b[38;5;241m2\u001b[39m\n\u001b[0;32m     28\u001b[0m \u001b[38;5;28;01melse\u001b[39;00m:\n\u001b[1;32m---> 29\u001b[0m     \u001b[38;5;28;01mwhile\u001b[39;00m \u001b[43ms\u001b[49m\u001b[43m[\u001b[49m\u001b[43mloc\u001b[49m\u001b[43m]\u001b[49m\u001b[38;5;241m!=\u001b[39m\u001b[38;5;124m\"\u001b[39m\u001b[38;5;124m杯\u001b[39m\u001b[38;5;124m\"\u001b[39m:\n\u001b[0;32m     30\u001b[0m         loc\u001b[38;5;241m+\u001b[39m\u001b[38;5;241m=\u001b[39m\u001b[38;5;241m1\u001b[39m\n\u001b[0;32m     31\u001b[0m     cnt\u001b[38;5;241m=\u001b[39ms[loc\u001b[38;5;241m-\u001b[39m\u001b[38;5;241m1\u001b[39m]\n",
      "\u001b[1;31mIndexError\u001b[0m: string index out of range"
     ]
    }
   ],
   "source": [
    "import speech_recognition as sr\n",
    "import re\n",
    "drink={\"紅茶\":20, \"綠茶\":20, \"奶茶\":20}\n",
    "noodle_favor={\"蘑菇\":50, \"魔菇\":50, \"黑胡椒\":50} # \"鐵板麵\"or'麵'\n",
    "thick_toast={\"奶酥\":20,\"巧克力\":20,\"草莓\":20}\n",
    "favor={\"牛肉\":35, \"豬肉\":35, \"薯餅\":30} \n",
    "favor_kind={\"堡\":20,\"吐司\":15,\"土司\":15,\"蛋餅\":10} # 堡+20 吐司+15 蛋餅+10 # 漢堡、吐司都有蛋\n",
    "nums={\"一\":1,\"二\":2,\"三\":3,\"四\":4,\"五\":5,\"六\":6,\"七\":7,\"八\":8,\"九\":9,\"十\":10}\n",
    "#s=\"紅茶1杯紅茶2杯綠茶1杯奶茶1杯1份蘑菇鐵板麵黑胡椒鐵板麵1份奶酥厚片2份牛肉漢堡2個\"\n",
    "def gogo(s):\n",
    "    s=str(s)\n",
    "    for num in nums:\n",
    "        s=s.replace(num, str(nums[num]))\n",
    "    ans=0\n",
    "    for item in drink:\n",
    "        #print(item)\n",
    "        x = 0\n",
    "        while s.find(item,x)!=-1:\n",
    "            loc = s.find(item,x)\n",
    "            #print(loc)\n",
    "            if s[loc-1]==\"杯\":\n",
    "                cnt=s[loc-2]\n",
    "                print(cnt)\n",
    "                ans+=drink[item]*int(cnt)\n",
    "                s = s[0:loc-2] + \"**\" + s[loc: ]\n",
    "                x=loc+2\n",
    "            else:\n",
    "                while s[loc]!=\"杯\":\n",
    "                    loc+=1\n",
    "                cnt=s[loc-1]\n",
    "                s = s[0:loc-1] + \"**\" + s[loc+1: ]\n",
    "                print(cnt)\n",
    "                ans+=drink[item]*int(cnt)\n",
    "                x=loc+1\n",
    "    print(ans)\n",
    "    for item in noodle_favor:\n",
    "        #print(item)\n",
    "        x = 0\n",
    "        while s.find(item,x)!=-1:\n",
    "            loc = s.find(item,x)\n",
    "            #print(loc)\n",
    "            if s[loc-1]==\"份\":\n",
    "                cnt=s[loc-2]\n",
    "                ans+=noodle_favor[item]*int(cnt)\n",
    "                s = s[0:loc-2] + \"**\" + s[loc: ]\n",
    "                x=loc+2\n",
    "            else:\n",
    "                loc=loc+2\n",
    "                while s[loc]!=\"份\":\n",
    "                    loc+=1\n",
    "                cnt=s[loc-1]\n",
    "                ans+=noodle_favor[item]*int(cnt)\n",
    "                s = s[0:loc-1] + \"**\" + s[loc+1: ]\n",
    "                x=loc+1\n",
    "    print(ans)\n",
    "    for item in thick_toast:\n",
    "        #print(item)\n",
    "        x = 0\n",
    "        while s.find(item,x)!=-1:\n",
    "            loc = s.find(item,x)\n",
    "            #print(loc)\n",
    "            if s[loc-1]==\"份\" or s[loc-1]==\"個\":\n",
    "                cnt=s[loc-2]\n",
    "                ans+=thick_toast[item]*int(cnt)\n",
    "                s = s[0:loc-2] + \"**\" + s[loc: ]\n",
    "                x=loc+2\n",
    "            else:\n",
    "                loc=loc+2\n",
    "                while not(s[loc]==\"份\" or s[loc]==\"個\"):\n",
    "                    loc+=1\n",
    "                cnt=s[loc-1]\n",
    "                ans+=thick_toast[item]*int(cnt)\n",
    "                s = s[0:loc-1] + \"**\" + s[loc+1: ]\n",
    "                x=loc+1\n",
    "    print(ans)\n",
    "    for item in favor:\n",
    "        #print(item)\n",
    "        x = 0\n",
    "        while s.find(item,x)!=-1:\n",
    "            loc = s.find(item,x)\n",
    "            #print(loc)\n",
    "            tem=loc+100\n",
    "            kind_cost=0\n",
    "            for it in favor_kind:\n",
    "                if s.find(it,loc)!=-1 and s.find(it,loc)<tem:\n",
    "                    tem=s.find(it,loc)\n",
    "                    kind_cost=favor_kind[it]\n",
    "    #         print(kind_cost)\n",
    "            if s[loc-1]==\"份\" or s[loc-1]==\"個\":\n",
    "                cnt=s[loc-2]\n",
    "                ans+=favor[item]*int(cnt)\n",
    "                s = s[0:loc-2] + \"**\" + s[loc: ]\n",
    "                x=loc+2\n",
    "            else:\n",
    "                loc=loc+2\n",
    "                while not(s[loc]==\"份\" or s[loc]==\"個\"):\n",
    "                    loc+=1\n",
    "                cnt=s[loc-1]\n",
    "                ans+=(favor[item]+kind_cost)*int(cnt)\n",
    "                s = s[0:loc-1] + \"**\" + s[loc+1: ]\n",
    "                x=loc+1\n",
    "    print(ans)\n",
    "    return ans\n",
    "def bot_listening():\n",
    "  rg = sr.Recognizer()\n",
    "  with sr.Microphone() as source: # 語音來源\n",
    "    audioData = rg.listen(source)\n",
    "    try:\n",
    "      text = rg.recognize_google(audioData, language='zh-tw')\n",
    "    except:\n",
    "      text = None\n",
    "  return text    \n",
    "cin=bot_listening()\n",
    "print(str(cin))\n",
    "print(gogo(cin))"
   ]
  },
  {
   "cell_type": "code",
   "execution_count": null,
   "id": "a5b3ff19",
   "metadata": {},
   "outputs": [],
   "source": []
  },
  {
   "cell_type": "code",
   "execution_count": null,
   "id": "eff7563c",
   "metadata": {},
   "outputs": [],
   "source": []
  }
 ],
 "metadata": {
  "kernelspec": {
   "display_name": "Python 3 (ipykernel)",
   "language": "python",
   "name": "python3"
  },
  "language_info": {
   "codemirror_mode": {
    "name": "ipython",
    "version": 3
   },
   "file_extension": ".py",
   "mimetype": "text/x-python",
   "name": "python",
   "nbconvert_exporter": "python",
   "pygments_lexer": "ipython3",
   "version": "3.9.12"
  }
 },
 "nbformat": 4,
 "nbformat_minor": 5
}
